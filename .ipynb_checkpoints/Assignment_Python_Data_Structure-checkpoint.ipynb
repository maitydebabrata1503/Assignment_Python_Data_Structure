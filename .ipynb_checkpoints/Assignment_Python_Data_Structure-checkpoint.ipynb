{
 "cells": [
  {
   "cell_type": "code",
   "execution_count": 35,
   "id": "80319102-0624-4b06-a240-6e2e669b8240",
   "metadata": {},
   "outputs": [
    {
     "name": "stdin",
     "output_type": "stream",
     "text": [
      "enter the string :  thank you\n"
     ]
    },
    {
     "name": "stdout",
     "output_type": "stream",
     "text": [
      "The reverse of 'thank you' is : uoy knaht\n"
     ]
    }
   ],
   "source": [
    "#1. Write a code to reverse string.\n",
    "\n",
    "string=input(\"enter the string : \")\n",
    "reverse_string=string[::-1]\n",
    "print(f\"The reverse of '{string}' is : {reverse_string}\")"
   ]
  },
  {
   "cell_type": "code",
   "execution_count": 34,
   "id": "e88244de-120d-48e0-a2b0-d5e17617ecec",
   "metadata": {},
   "outputs": [
    {
     "name": "stdin",
     "output_type": "stream",
     "text": [
      "enter the string :  thank you\n"
     ]
    },
    {
     "name": "stdout",
     "output_type": "stream",
     "text": [
      "number of vowels on 'thank you' is : 3\n"
     ]
    }
   ],
   "source": [
    "#2. Write code to count the number of vowels in string.\n",
    "\n",
    "vowels=\"aeiou\"\n",
    "string=input(\"enter the string : \")\n",
    "count=0\n",
    "for character in string:\n",
    "    if character in vowels:\n",
    "        count+=1\n",
    "print(f\"number of vowels on '{string}' is : {count}\")"
   ]
  },
  {
   "cell_type": "code",
   "execution_count": 32,
   "id": "45d6df97-d716-45d3-9aad-18ef48f90e09",
   "metadata": {},
   "outputs": [
    {
     "name": "stdin",
     "output_type": "stream",
     "text": [
      "enter the string :  eye\n"
     ]
    },
    {
     "name": "stdout",
     "output_type": "stream",
     "text": [
      "'eye' is  palindrome\n"
     ]
    }
   ],
   "source": [
    "#3. Write a code to check if a given string is a palindrome or not.\n",
    "\n",
    "string=input(\"enter the string : \")\n",
    "result='' if string == string[::-1] else \"not\"\n",
    "print(f\"'{string}' is {result} palindrome\")"
   ]
  },
  {
   "cell_type": "code",
   "execution_count": 11,
   "id": "7c5ae211-1b51-409c-a0a1-96e4ab3a774a",
   "metadata": {},
   "outputs": [
    {
     "name": "stdin",
     "output_type": "stream",
     "text": [
      "enter first string :  listen\n",
      "enter second string :  client\n"
     ]
    },
    {
     "name": "stdout",
     "output_type": "stream",
     "text": [
      "listen and client are not anagrams of each other.\n"
     ]
    }
   ],
   "source": [
    "#4. Write a code to check if two given strings are anagrams of each other.\n",
    "\n",
    "string1=input(\"enter first string : \").strip()\n",
    "string2=input(\"enter second string : \").strip()\n",
    "if len(string1)!=len(string2):\n",
    "    result=\"not\"\n",
    "else:\n",
    "    result='' if sorted(string1)==sorted(string2) else \"not\"\n",
    "print(f\"{string1} and {string2} are {result} anagrams of each other.\")"
   ]
  },
  {
   "cell_type": "code",
   "execution_count": 31,
   "id": "89d1586c-9d9d-437b-b92c-2d8277a0356f",
   "metadata": {},
   "outputs": [
    {
     "name": "stdin",
     "output_type": "stream",
     "text": [
      "enter the string :  aaa\n",
      "enter the substring :  aa\n"
     ]
    },
    {
     "name": "stdout",
     "output_type": "stream",
     "text": [
      "number of occurrences of 'aa' within 'aaa' is : 2\n"
     ]
    }
   ],
   "source": [
    "#5. Write a code to find all occurrences of a given substring within another string.\n",
    "\n",
    "string=input(\"enter the string : \")\n",
    "substring=input(\"enter the substring : \")\n",
    "count,original_string=0,string\n",
    "while substring in string:\n",
    "    count+=1\n",
    "    string=string[string.find(substring)+1:]\n",
    "print(f\"number of occurrences of '{substring}' within '{original_string}' is : {count}\")"
   ]
  },
  {
   "cell_type": "code",
   "execution_count": 4,
   "id": "69480ae1-ae85-47a1-adac-05dc610435be",
   "metadata": {},
   "outputs": [
    {
     "name": "stdin",
     "output_type": "stream",
     "text": [
      "enter the string :  aabbbccdfg\n"
     ]
    },
    {
     "name": "stdout",
     "output_type": "stream",
     "text": [
      "The new string generated after compression is :  a2b3c2dfg\n"
     ]
    }
   ],
   "source": [
    "#6. Write a code to perform basic string compression using the counts of repeated characters.\n",
    "\n",
    "string=input(\"enter the string : \")\n",
    "i,count,compress_string=1,1,''\n",
    "while i<len(string):\n",
    "    if string[i]==string[i-1]:\n",
    "        count+=1\n",
    "    else:\n",
    "        if count==1:\n",
    "            compress_string+=string[i-1]\n",
    "        else:\n",
    "            compress_string+=(string[i-1]+str(count))\n",
    "        count=1\n",
    "    i+=1\n",
    "else:\n",
    "    if count==1:\n",
    "        compress_string+=string[i-1]\n",
    "    else:\n",
    "        compress_string+=(string[i-1]+str(count))\n",
    "print(\"The new string generated after compression is : \",compress_string)        "
   ]
  },
  {
   "cell_type": "code",
   "execution_count": 33,
   "id": "2e1a95fb-0e76-4fba-bade-0f50d12b2084",
   "metadata": {},
   "outputs": [
    {
     "name": "stdin",
     "output_type": "stream",
     "text": [
      "enter the string :  kotak\n"
     ]
    },
    {
     "name": "stdout",
     "output_type": "stream",
     "text": [
      "'kotak' has not all unique characters\n"
     ]
    }
   ],
   "source": [
    "#7. Write a code to determine if a string has all unique characters.\n",
    "\n",
    "def check_unique(string):\n",
    "    for i in range(len(string)):\n",
    "        for j in range(i+1,len(string)):\n",
    "            if string[i]==string[j]:\n",
    "                return \"not\"\n",
    "    else:\n",
    "        return ''\n",
    "                       \n",
    "string=input(\"enter the string : \")\n",
    "result=check_unique(string)\n",
    "print(f\"'{string}' has {result} all unique characters\")"
   ]
  },
  {
   "cell_type": "code",
   "execution_count": 29,
   "id": "fe619b98-9509-4213-a109-ff0e9852bfff",
   "metadata": {},
   "outputs": [
    {
     "name": "stdin",
     "output_type": "stream",
     "text": [
      "enter the string :  asdfGHJK\n"
     ]
    },
    {
     "name": "stdout",
     "output_type": "stream",
     "text": [
      "The uppercase of 'asdfGHJK' is : 'ASDFGHJK' & the lowercase of 'asdfGHJK' is : 'asdfghjk'\n"
     ]
    }
   ],
   "source": [
    "#8. Write a code to convert a given string to uppercase or lowercase.\n",
    "\n",
    "string=input(\"enter the string : \")\n",
    "print(f\"The uppercase of '{string}' is : '{string.upper()}' & the lowercase of '{string}' is : '{string.lower()}'\")"
   ]
  },
  {
   "cell_type": "code",
   "execution_count": 28,
   "id": "1674205b-3113-4a6c-8af1-26e444f1bee8",
   "metadata": {},
   "outputs": [
    {
     "name": "stdin",
     "output_type": "stream",
     "text": [
      "enter the string :  thank you sir\n"
     ]
    },
    {
     "name": "stdout",
     "output_type": "stream",
     "text": [
      "The number of words in 'thank you sir' is :  3\n"
     ]
    }
   ],
   "source": [
    "#9. Write a code to count the number of words in a string.\n",
    "\n",
    "string=input(\"enter the string : \")\n",
    "print(f\"The number of words in '{string}' is : \",len(string.split()))"
   ]
  },
  {
   "cell_type": "code",
   "execution_count": 27,
   "id": "8c5b12a8-7378-486e-9629-7c78d4732ed4",
   "metadata": {},
   "outputs": [
    {
     "name": "stdin",
     "output_type": "stream",
     "text": [
      "enter the first :  thank \n",
      "enter the second :  you\n"
     ]
    },
    {
     "name": "stdout",
     "output_type": "stream",
     "text": [
      "The new concatenated string is :  thank you\n"
     ]
    }
   ],
   "source": [
    "#10. Write a code to concatenate two strings without using the + operator.\n",
    "\n",
    "string1=input(\"enter the first : \")\n",
    "string2=input(\"enter the second : \")\n",
    "print(\"The new concatenated string is : \",string1.__add__(string2))"
   ]
  },
  {
   "cell_type": "code",
   "execution_count": 3,
   "id": "81ddc3c8-b03c-4e94-854f-edf1d50d06c0",
   "metadata": {},
   "outputs": [
    {
     "name": "stdout",
     "output_type": "stream",
     "text": [
      "enter th space separated list elements : \n"
     ]
    },
    {
     "name": "stdin",
     "output_type": "stream",
     "text": [
      " 1 3 2 3 4 3 5 3 6 3\n",
      "enter the specific element by that you want perform the remove operation :  3\n"
     ]
    },
    {
     "name": "stdout",
     "output_type": "stream",
     "text": [
      "The list after specific element remove operation : [1, 2, 4, 5, 6]\n"
     ]
    }
   ],
   "source": [
    "#11. Write a code to remove all occurrences of a specific element from a list.\n",
    "\n",
    "print(\"enter the space separated list of elements : \")\n",
    "element_list=list(map(int,input().strip().split()))\n",
    "specific_element=int(input(\"enter the specific element by that you want perform the remove operation : \"))\n",
    "while specific_element in element_list:\n",
    "    element_list.remove(specific_element)\n",
    "print(\"The list after specific element remove operation :\",element_list) "
   ]
  },
  {
   "cell_type": "code",
   "execution_count": 9,
   "id": "b071079b-27c9-4677-88fa-ad972406dfd9",
   "metadata": {},
   "outputs": [
    {
     "name": "stdout",
     "output_type": "stream",
     "text": [
      "enter the space separated list elements : \n"
     ]
    },
    {
     "name": "stdin",
     "output_type": "stream",
     "text": [
      " 45 46 84 26 94 16 83 63 27\n"
     ]
    },
    {
     "name": "stdout",
     "output_type": "stream",
     "text": [
      "The second largest element of the given list of integers is : 84\n"
     ]
    }
   ],
   "source": [
    "#12. Implement a code to find the second largest number in a given list of integers.\n",
    "\n",
    "print(\"enter the space separated list of elements : \")\n",
    "element_list=list(map(int,input().strip().split()))\n",
    "smax_element=min(element_list)\n",
    "for i in range(len(element_list)):\n",
    "    if element_list[i]<max(element_list):\n",
    "        smax_element=max(smax_element,element_list[i])\n",
    "print(\"The second largest element of the given list of integers is :\",smax_element)"
   ]
  },
  {
   "cell_type": "code",
   "execution_count": 2,
   "id": "003c355c-3720-4a95-85c9-5ddabfcde64e",
   "metadata": {},
   "outputs": [
    {
     "name": "stdout",
     "output_type": "stream",
     "text": [
      "enter the space separated list elements : \n"
     ]
    },
    {
     "name": "stdin",
     "output_type": "stream",
     "text": [
      " 4 7 2 9 5 6 3 9 \n"
     ]
    },
    {
     "name": "stdout",
     "output_type": "stream",
     "text": [
      "The reverse of [4, 7, 2, 9, 5, 6, 3, 9] is : [9, 3, 6, 5, 9, 2, 7, 4]\n"
     ]
    }
   ],
   "source": [
    "#14. Write a code to reverse a list in-place without using any built-in reverse functions.\n",
    "\n",
    "print(\"enter the space separated list of elements : \")\n",
    "element_list=list(map(int,input().strip().split()))\n",
    "print(f\"The reverse of {element_list} is :\",element_list[::-1])"
   ]
  },
  {
   "cell_type": "code",
   "execution_count": 5,
   "id": "a296d200-3da0-4959-b307-98bb28e27ae5",
   "metadata": {},
   "outputs": [
    {
     "name": "stdout",
     "output_type": "stream",
     "text": [
      "enter the space separated list of elements : \n"
     ]
    },
    {
     "name": "stdin",
     "output_type": "stream",
     "text": [
      " 4 6 7 3 7 2 9 5 4 8 2 1\n"
     ]
    },
    {
     "name": "stdout",
     "output_type": "stream",
     "text": [
      "The list containing non-duplicate elements is :  [4, 6, 7, 3, 2, 9, 5, 8, 1]\n"
     ]
    }
   ],
   "source": [
    "#15. Implement a code to find and remove duplicates from a list while preserving the original order of element.\n",
    "\n",
    "print(\"enter the space separated list of elements : \")\n",
    "element_list=list(map(int,input().strip().split()))\n",
    "unique_list=[]\n",
    "for i in element_list:\n",
    "    if i not in unique_list:\n",
    "        unique_list.append(i)\n",
    "print(\"The list containing non-duplicate elements with original order is : \",unique_list)"
   ]
  },
  {
   "cell_type": "code",
   "execution_count": 10,
   "id": "0c8e1c4c-31d9-4ed6-a3cc-d94be70bc27c",
   "metadata": {},
   "outputs": [
    {
     "name": "stdout",
     "output_type": "stream",
     "text": [
      "enter the space separated list of elements : \n"
     ]
    },
    {
     "name": "stdin",
     "output_type": "stream",
     "text": [
      " 5 2 8 6 7 3\n"
     ]
    },
    {
     "name": "stdout",
     "output_type": "stream",
     "text": [
      "list is not in sorted order\n"
     ]
    }
   ],
   "source": [
    "#16. Create a code to check if a given list is sorted (either in ascending or descending order) or not.\n",
    "\n",
    "print(\"enter the space separated list of elements : \")\n",
    "element_list=list(map(int,input().strip().split()))\n",
    "asc_sorted=sorted(element_list)\n",
    "dsc_sorted=asc_sorted[::-1]\n",
    "if element_list==asc_sorted:\n",
    "    print(\"list is sorted in ascending order\")\n",
    "elif element_list==dsc_sorted:\n",
    "    print(\"list is sorted in descending order\")\n",
    "else:\n",
    "    print(\"list is not in sorted order\")"
   ]
  },
  {
   "cell_type": "code",
   "execution_count": 12,
   "id": "5ae44137-2ef0-4691-9475-068db3693370",
   "metadata": {},
   "outputs": [
    {
     "name": "stdout",
     "output_type": "stream",
     "text": [
      "enter the space separated first sorted list of elements : \n"
     ]
    },
    {
     "name": "stdin",
     "output_type": "stream",
     "text": [
      " 1 3 5 7 9\n"
     ]
    },
    {
     "name": "stdout",
     "output_type": "stream",
     "text": [
      "enter the space separated second sorted list of elements : \n"
     ]
    },
    {
     "name": "stdin",
     "output_type": "stream",
     "text": [
      " 0 2 4 6 8\n"
     ]
    },
    {
     "name": "stdout",
     "output_type": "stream",
     "text": [
      "The new merged sorted list is :  [0, 1, 2, 3, 4, 5, 6, 7, 8, 9]\n"
     ]
    }
   ],
   "source": [
    "#17. Write a code to merge two sorted lists into a single sorted list.\n",
    "\n",
    "print(\"enter the space separated first sorted list of elements : \")\n",
    "first_list=list(map(int,input().strip().split()))\n",
    "print(\"enter the space separated second sorted list of elements : \")\n",
    "second_list=list(map(int,input().strip().split()))\n",
    "merge_list=sorted(first_list+second_list)\n",
    "print(\"The new merged sorted list is : \",merge_list)"
   ]
  },
  {
   "cell_type": "code",
   "execution_count": 26,
   "id": "99d8342a-13d9-4e8b-9513-0a767dd2a9b0",
   "metadata": {},
   "outputs": [
    {
     "name": "stdout",
     "output_type": "stream",
     "text": [
      "enter the space separated first list of elements : \n"
     ]
    },
    {
     "name": "stdin",
     "output_type": "stream",
     "text": [
      " 4 1 5 6 7 3 9 0 3 7\n"
     ]
    },
    {
     "name": "stdout",
     "output_type": "stream",
     "text": [
      "enter the space separated second list of elements : \n"
     ]
    },
    {
     "name": "stdin",
     "output_type": "stream",
     "text": [
      " 6 8 9 3 7 6 3 3 0 0 2\n"
     ]
    },
    {
     "name": "stdout",
     "output_type": "stream",
     "text": [
      "The new list after intersection is :  [6, 7, 3, 9, 0, 3]\n"
     ]
    }
   ],
   "source": [
    "#18. Implement a code to find the intersection of two given lists.\n",
    "\n",
    "print(\"enter the space separated first list of elements : \")\n",
    "first_list=list(map(int,input().strip().split()))\n",
    "print(\"enter the space separated second list of elements : \")\n",
    "second_list=list(map(int,input().strip().split()))\n",
    "intersected_list=[]\n",
    "for i in first_list:\n",
    "    if i in second_list:\n",
    "        intersected_list.append(i)\n",
    "        second_list.remove(i)\n",
    "print(\"The new list after intersection is : \",intersected_list)"
   ]
  },
  {
   "cell_type": "code",
   "execution_count": 12,
   "id": "b2d8b982-f913-43df-915f-44986dbfb826",
   "metadata": {},
   "outputs": [
    {
     "name": "stdout",
     "output_type": "stream",
     "text": [
      "enter the space separated first list of elements : \n"
     ]
    },
    {
     "name": "stdin",
     "output_type": "stream",
     "text": [
      " 5 6 8 2 5 4 0 2 \n"
     ]
    },
    {
     "name": "stdout",
     "output_type": "stream",
     "text": [
      "enter the space separated second list of elements : \n"
     ]
    },
    {
     "name": "stdin",
     "output_type": "stream",
     "text": [
      " 4 3 9 3 7 4 0 3 6 8\n"
     ]
    },
    {
     "name": "stdout",
     "output_type": "stream",
     "text": [
      "The new list after union without duplicate is :  [0, 2, 3, 4, 5, 6, 7, 8, 9]\n"
     ]
    }
   ],
   "source": [
    "#19. Create a code to find the union of two lists without duplicates.\n",
    "\n",
    "print(\"enter the space separated first list of elements : \")\n",
    "first_list=list(map(int,input().strip().split()))\n",
    "print(\"enter the space separated second list of elements : \")\n",
    "second_list=list(map(int,input().strip().split()))\n",
    "first_set=set(first_list)\n",
    "second_set=set(second_list)\n",
    "union_list=list(first_set|second_set)\n",
    "print(\"The new list after union without duplicate is : \",union_list)"
   ]
  },
  {
   "cell_type": "code",
   "execution_count": 7,
   "id": "a9f22c1f-a1bb-44c3-87ce-6a32d71cea57",
   "metadata": {},
   "outputs": [
    {
     "name": "stdout",
     "output_type": "stream",
     "text": [
      "enter the space separated list of elements : \n"
     ]
    },
    {
     "name": "stdin",
     "output_type": "stream",
     "text": [
      " 8 6 1 3 8 1 9 8 2 3 7\n"
     ]
    },
    {
     "name": "stdout",
     "output_type": "stream",
     "text": [
      "The list after shuffled is :  [3, 8, 9, 3, 7, 1, 2, 6, 8, 1, 8]\n"
     ]
    }
   ],
   "source": [
    "#20. Write a code to shuffle a given list randomly without using an built-in shuffle functions.\n",
    "\n",
    "import random\n",
    "print(\"enter the space separated list of elements : \")\n",
    "my_list=list(map(int,input().strip().split()))\n",
    "for i in range(len(my_list)):\n",
    "    j,k=random.randint(0,len(my_list)-1),random.randint(0,len(my_list)-1)\n",
    "    my_list[j],my_list[k]=my_list[k],my_list[j]\n",
    "print(\"The list after shuffled is : \",my_list)"
   ]
  },
  {
   "cell_type": "code",
   "execution_count": 3,
   "id": "ce5ffc46-8f69-4e36-8b39-d8808028125e",
   "metadata": {},
   "outputs": [
    {
     "name": "stdout",
     "output_type": "stream",
     "text": [
      "enter the space separated first tuple of elements : \n"
     ]
    },
    {
     "name": "stdin",
     "output_type": "stream",
     "text": [
      " 5 6 8 2 5 4 0 2\n"
     ]
    },
    {
     "name": "stdout",
     "output_type": "stream",
     "text": [
      "enter the space separated second tuple of elements : \n"
     ]
    },
    {
     "name": "stdin",
     "output_type": "stream",
     "text": [
      " 4 3 9 3 7 4 0 3 6 8\n"
     ]
    },
    {
     "name": "stdout",
     "output_type": "stream",
     "text": [
      "The new tuple after intersection is :  (6, 8, 4, 0)\n"
     ]
    }
   ],
   "source": [
    "#21. Write a code that takes two tuples as input and returns a new tuple containing elements that are common to both input tuples.\n",
    "\n",
    "print(\"enter the space separated first tuple of elements : \")\n",
    "first_tuple=tuple(map(int,input().strip().split()))\n",
    "print(\"enter the space separated second tuple of elements : \")\n",
    "second_tuple=tuple(map(int,input().strip().split()))\n",
    "first_list,second_list=list(first_tuple),list(second_tuple)\n",
    "intersected_list=[]\n",
    "for i in first_list:\n",
    "    if i in second_list:\n",
    "        intersected_list.append(i)\n",
    "        second_list.remove(i)\n",
    "print(\"The new tuple after intersection is : \",tuple(intersected_list))"
   ]
  },
  {
   "cell_type": "code",
   "execution_count": 6,
   "id": "ef5abd0a-078f-41af-a75d-8ac47d4ee74f",
   "metadata": {},
   "outputs": [
    {
     "name": "stdout",
     "output_type": "stream",
     "text": [
      "enter the space separated first set of elements : \n"
     ]
    },
    {
     "name": "stdin",
     "output_type": "stream",
     "text": [
      " 3,5,2,6,7,3,7,8,9\n"
     ]
    },
    {
     "name": "stdout",
     "output_type": "stream",
     "text": [
      "enter the space separated second set of elements : \n"
     ]
    },
    {
     "name": "stdin",
     "output_type": "stream",
     "text": [
      " 2,7,4,8,5,9,2,9,3\n"
     ]
    },
    {
     "name": "stdout",
     "output_type": "stream",
     "text": [
      "The new set after intersection is :  {2, 3, 5, 7, 8, 9}\n"
     ]
    }
   ],
   "source": [
    "#22. Create a code that prompts the user to enter two sets of integers seprated by commas. Then, print the intersection of these two sets.\n",
    "\n",
    "print(\"enter the space separated first set of elements : \")\n",
    "first_set=set(map(int,input().strip().split(',')))\n",
    "print(\"enter the space separated second set of elements : \")\n",
    "second_set=set(map(int,input().strip().split(',')))\n",
    "intersection_set=first_set&second_set\n",
    "print(\"The new set after intersection is : \",intersection_set)"
   ]
  },
  {
   "cell_type": "code",
   "execution_count": 5,
   "id": "d7916e19-d218-4d56-9568-65c4efc6b9e1",
   "metadata": {},
   "outputs": [
    {
     "name": "stdout",
     "output_type": "stream",
     "text": [
      "enter the space separated first tuple of elements : \n"
     ]
    },
    {
     "name": "stdin",
     "output_type": "stream",
     "text": [
      " 4 5 3 5 2 6 6 3 6\n"
     ]
    },
    {
     "name": "stdout",
     "output_type": "stream",
     "text": [
      "enter the space separated second tuple of elements : \n"
     ]
    },
    {
     "name": "stdin",
     "output_type": "stream",
     "text": [
      " 7 4 8 8 9 0 1 5 2 3\n"
     ]
    },
    {
     "name": "stdout",
     "output_type": "stream",
     "text": [
      "The new tuple after concatenation is :  (4, 5, 3, 5, 2, 6, 6, 3, 6, 7, 4, 8, 8, 9, 0, 1, 5, 2, 3)\n"
     ]
    }
   ],
   "source": [
    "#23. Write a code to concatenate two tuples. The function should take two tuples as input and return a new tuple containing elements from both input tuples.\n",
    "def concatenate_tuple(first_tuple,second_tuple):\n",
    "    return first_tuple+second_tuple\n",
    "print(\"enter the space separated first tuple of elements : \")\n",
    "first_tuple=tuple(map(int,input().strip().split()))\n",
    "print(\"enter the space separated second tuple of elements : \")\n",
    "second_tuple=tuple(map(int,input().strip().split()))\n",
    "print(\"The new tuple after concatenation is : \",concatenate_tuple(first_tuple,second_tuple))"
   ]
  },
  {
   "cell_type": "code",
   "execution_count": 25,
   "id": "66814ec9-2c2f-48d3-be8e-1bea3b3561e2",
   "metadata": {},
   "outputs": [
    {
     "name": "stdout",
     "output_type": "stream",
     "text": [
      "enter the space separated first set of elements : \n"
     ]
    },
    {
     "name": "stdin",
     "output_type": "stream",
     "text": [
      " virat rohit\n"
     ]
    },
    {
     "name": "stdout",
     "output_type": "stream",
     "text": [
      "enter the space separated second set of elements : \n"
     ]
    },
    {
     "name": "stdin",
     "output_type": "stream",
     "text": [
      " virat rahul\n"
     ]
    },
    {
     "name": "stdout",
     "output_type": "stream",
     "text": [
      "The new set which contains elements that are present in the first set but not in the second set is :  {'rohit'}\n"
     ]
    }
   ],
   "source": [
    "#24. Develop a code that prompts the user to input two sets of strings. Then print the elements that are present in the first set but not in the second set.\n",
    "\n",
    "print(\"enter the space separated first set of elements : \")\n",
    "first_set=set(map(str,input().strip().split()))\n",
    "print(\"enter the space separated second set of elements : \")\n",
    "second_set=set(map(str,input().strip().split()))\n",
    "print(\"The new set which contains elements that are present in the first set but not in the second set is : \",first_set-second_set)"
   ]
  },
  {
   "cell_type": "code",
   "execution_count": 3,
   "id": "7802ddf6-6db9-4fe8-bc2e-5526692e1b1a",
   "metadata": {},
   "outputs": [
    {
     "name": "stdout",
     "output_type": "stream",
     "text": [
      "enter the space separated tuple of elements : \n"
     ]
    },
    {
     "name": "stdin",
     "output_type": "stream",
     "text": [
      " 6 9 9 4 2 3 0 3 1 3 4 5\n",
      "enter the first index :  4\n",
      "enter the second index :  10\n"
     ]
    },
    {
     "name": "stdout",
     "output_type": "stream",
     "text": [
      "The new tuple containing specified range elements is :  (2, 3, 0, 3, 1, 3, 4)\n"
     ]
    }
   ],
   "source": [
    "#25. Create a code that takes a tuple and two integers as input. The function should return a new tuple containing elements from the original tuple within the specified range of indices.\n",
    "\n",
    "def index_tuple(*args):\n",
    "    return args[0][args[1]:args[2]+1]\n",
    "print(\"enter the space separated tuple of elements : \")\n",
    "my_tuple=tuple(map(int,input().strip().split()))\n",
    "first_index=int(input(\"enter the first index : \"))\n",
    "second_index=int(input(\"enter the second index : \"))\n",
    "print(\"The new tuple containing specified range elements is : \",index_tuple(my_tuple,first_index,second_index))"
   ]
  },
  {
   "cell_type": "code",
   "execution_count": 20,
   "id": "99825af5-98da-4ab1-b9dd-a43f3163db32",
   "metadata": {},
   "outputs": [
    {
     "name": "stdout",
     "output_type": "stream",
     "text": [
      "enter the space separated first set of characters : \n"
     ]
    },
    {
     "name": "stdin",
     "output_type": "stream",
     "text": [
      " v i r a t r o h i t\n"
     ]
    },
    {
     "name": "stdout",
     "output_type": "stream",
     "text": [
      "enter the space separated second set of characters : \n"
     ]
    },
    {
     "name": "stdin",
     "output_type": "stream",
     "text": [
      " v i r a t r a h u l\n"
     ]
    },
    {
     "name": "stdout",
     "output_type": "stream",
     "text": [
      "The new set after union is :  {'o', 'i', 'a', 'h', 'l', 'u', 't', 'v', 'r'}\n"
     ]
    }
   ],
   "source": [
    "#26. Write a code that prompts the user to input two sets of characters. Then print the union of these two sets.\n",
    "\n",
    "print(\"enter the space separated first set of characters : \")\n",
    "first_set=set(map(str,input().strip().split()))\n",
    "print(\"enter the space separated second set of characters : \")\n",
    "second_set=set(map(str,input().strip().split()))\n",
    "print(\"The new set after union is : \",first_set|second_set)"
   ]
  },
  {
   "cell_type": "code",
   "execution_count": 24,
   "id": "26e60ad2-e82b-4bdd-a2cd-04ab9be248eb",
   "metadata": {},
   "outputs": [
    {
     "name": "stdout",
     "output_type": "stream",
     "text": [
      "enter the space separated tuple of elements : \n"
     ]
    },
    {
     "name": "stdin",
     "output_type": "stream",
     "text": [
      " 6 9 9 4 2 3 0 3 1 3 4 5\n"
     ]
    },
    {
     "name": "stdout",
     "output_type": "stream",
     "text": [
      "The maximun value of this tuple is : 9 & minimum value is : 0\n"
     ]
    }
   ],
   "source": [
    "#27. Develop a code that takes a tuple of integers as input. The function should return the maximum and minimum values from the tuple using tuple unpacking.\n",
    "\n",
    "def max_min(my_tuple):\n",
    "    min_value,*elements,max_value=sorted(my_tuple)\n",
    "    return max_value,min_value\n",
    "print(\"enter the space separated tuple of elements : \")\n",
    "my_tuple=tuple(map(int,input().strip().split()))\n",
    "max_value,min_value=max_min(my_tuple)\n",
    "print(f\"The maximun value of this tuple is : {max_value} & minimum value is : {min_value}\")"
   ]
  },
  {
   "cell_type": "code",
   "execution_count": 22,
   "id": "2bc325b8-1f39-431f-9786-5c9b04902185",
   "metadata": {},
   "outputs": [
    {
     "name": "stdout",
     "output_type": "stream",
     "text": [
      "enter the space separated first set of integers : \n"
     ]
    },
    {
     "name": "stdin",
     "output_type": "stream",
     "text": [
      " 7 4 8 8 9 0 1 5 2 3\n"
     ]
    },
    {
     "name": "stdout",
     "output_type": "stream",
     "text": [
      "enter the space separated second set of integers : \n"
     ]
    },
    {
     "name": "stdin",
     "output_type": "stream",
     "text": [
      " 4 5 3 5 2 6 6 3 6\n"
     ]
    },
    {
     "name": "stdout",
     "output_type": "stream",
     "text": [
      "The new set after union is : {0, 1, 2, 3, 4, 5, 6, 7, 8, 9}\n",
      "The new set after intersection is : {2, 3, 4, 5}\n",
      "The set difference from first set to second set is : {0, 1, 7, 8, 9}\n",
      "The set difference from second set to first set is : {6}\n"
     ]
    }
   ],
   "source": [
    "#28. Create a code that defines two sets of integers. Then print the union intersection and difference of these two sets.\n",
    "\n",
    "print(\"enter the space separated first set of integers : \")\n",
    "first_set=set(map(int,input().strip().split()))\n",
    "print(\"enter the space separated second set of integers : \")\n",
    "second_set=set(map(int,input().strip().split()))\n",
    "print(f\"The new set after union is : {first_set|second_set}\")\n",
    "print(f\"The new set after intersection is : {first_set&second_set}\")\n",
    "print(f\"The set difference from first set to second set is : {first_set-second_set}\")\n",
    "print(f\"The set difference from second set to first set is : {second_set-first_set}\")"
   ]
  },
  {
   "cell_type": "code",
   "execution_count": 4,
   "id": "18ba9da4-96dd-4c9c-bfb3-b9eb0b082060",
   "metadata": {},
   "outputs": [
    {
     "name": "stdout",
     "output_type": "stream",
     "text": [
      "enter the space separated tuple of elements : \n"
     ]
    },
    {
     "name": "stdin",
     "output_type": "stream",
     "text": [
      " 6 9 9 4 2 3 0 3 1 3 4 5\n",
      "enter the element which's occurrences you want to calculate:  9\n"
     ]
    },
    {
     "name": "stdout",
     "output_type": "stream",
     "text": [
      "The number of occurrences of 9 in the tuple is : 2\n"
     ]
    }
   ],
   "source": [
    "#29. Write a code that takes a tuple and an element as input. The function should return the count of occurrences of the given element in the tuple.\n",
    "\n",
    "def occurrences(*args):\n",
    "    return args[0].count(args[1])\n",
    "print(\"enter the space separated tuple of elements : \")\n",
    "my_tuple=tuple(map(int,input().strip().split()))\n",
    "element=int(input(\"enter the element which's occurrences you want to calculate: \"))\n",
    "print(f\"The number of occurrences of {element} in the tuple is : {occurrences(my_tuple,element)}\")"
   ]
  },
  {
   "cell_type": "code",
   "execution_count": 23,
   "id": "f16d8adb-af75-4351-bb00-148f1498ff02",
   "metadata": {},
   "outputs": [
    {
     "name": "stdout",
     "output_type": "stream",
     "text": [
      "enter the space separated first set of characters : \n"
     ]
    },
    {
     "name": "stdin",
     "output_type": "stream",
     "text": [
      " virat rohit\n"
     ]
    },
    {
     "name": "stdout",
     "output_type": "stream",
     "text": [
      "enter the space separated second set of characters : \n"
     ]
    },
    {
     "name": "stdin",
     "output_type": "stream",
     "text": [
      " virat rahul\n"
     ]
    },
    {
     "name": "stdout",
     "output_type": "stream",
     "text": [
      "The new set after symmetric difference is :  {'rohit', 'rahul'}\n"
     ]
    }
   ],
   "source": [
    "#30. Develop a code that prompts the user to input two sets of strings. Then print the symmetric difference of these two sets.\n",
    "\n",
    "print(\"enter the space separated first set of characters : \")\n",
    "first_set=set(map(str,input().strip().split()))\n",
    "print(\"enter the space separated second set of characters : \")\n",
    "second_set=set(map(str,input().strip().split()))\n",
    "print(\"The new set after symmetric difference is : \",first_set^second_set)"
   ]
  },
  {
   "cell_type": "code",
   "execution_count": 14,
   "id": "b42f61f4-1368-4494-9aa0-22dfbbd3427a",
   "metadata": {},
   "outputs": [
    {
     "name": "stdout",
     "output_type": "stream",
     "text": [
      "enter the space separated list of words : \n"
     ]
    },
    {
     "name": "stdin",
     "output_type": "stream",
     "text": [
      " virat rohit virat rahul rohit\n"
     ]
    },
    {
     "name": "stdout",
     "output_type": "stream",
     "text": [
      "The generated dictionary is :  {'virat': 2, 'rohit': 2, 'rahul': 1}\n"
     ]
    }
   ],
   "source": [
    "#31. Write a code that takes a list of words as input and returns a dictionary where the keys are unique words and the values are the frequencies of those words in the input list.\n",
    "\n",
    "print(\"enter the space separated list of words : \")\n",
    "my_list=list(map(str,input().strip().split()))\n",
    "my_dict={}\n",
    "for ele in my_list:\n",
    "    my_dict[ele]=my_list.count(ele)\n",
    "print(\"The generated dictionary is : \",my_dict)"
   ]
  },
  {
   "cell_type": "code",
   "execution_count": 13,
   "id": "916d5e8e-9bfd-413a-89b5-41622009f492",
   "metadata": {},
   "outputs": [
    {
     "name": "stdin",
     "output_type": "stream",
     "text": [
      "enter space separated key,value for first dictionary:  rohit,36 virat,94\n",
      "enter space separated key,value for second dictionary:  virat,10 rahul,27\n"
     ]
    },
    {
     "name": "stdout",
     "output_type": "stream",
     "text": [
      "The merged dictionary is :  {'virat': 104, 'rahul': 27, 'rohit': 36}\n"
     ]
    }
   ],
   "source": [
    "#32. Write a code that takes two dictionaries as input and merges them into a single dictionary. If there are common keys the values should be added togather.\n",
    "\n",
    "first_dict={pair.split(',')[0]:int(pair.split(',')[1]) for pair in input(\"enter space separated key,value for first dictionary: \").strip().split()}\n",
    "second_dict={pair.split(',')[0]:int(pair.split(',')[1]) for pair in input(\"enter space separated key,value for second dictionary: \").strip().split()}\n",
    "for key in first_dict.keys():\n",
    "    if key in second_dict.keys():\n",
    "        second_dict[key]=second_dict[key]+first_dict[key]\n",
    "    else:\n",
    "        second_dict[key]=first_dict[key]\n",
    "print(\"The merged dictionary is : \",second_dict)"
   ]
  },
  {
   "cell_type": "code",
   "execution_count": 13,
   "id": "d4369cb4-31dc-46c8-bd51-b91de564735e",
   "metadata": {},
   "outputs": [
    {
     "name": "stdout",
     "output_type": "stream",
     "text": [
      "enter the space separated list of key elements : \n"
     ]
    },
    {
     "name": "stdin",
     "output_type": "stream",
     "text": [
      " virat shami hardik rohit sky gambhir\n"
     ]
    },
    {
     "name": "stdout",
     "output_type": "stream",
     "text": [
      "The value list of corresponding key list is :  [104, 315, 1007, 36, 500, None]\n"
     ]
    }
   ],
   "source": [
    "#33. Write a code to access a value in a nested dictionary. The function should take the dictionary and a list of keys as input and return the corresponding value. If any of the keys do not exist in the dictionary the function should return None.\n",
    "def dictionary_value(my_dict,my_list):\n",
    "    return_list=[]\n",
    "    for key in my_list:\n",
    "        if key in my_dict.keys():\n",
    "            return_list.append(my_dict[key])\n",
    "        else: \n",
    "            for pair in my_dict.values():\n",
    "                if type(pair)==dict:\n",
    "                    if key in pair.keys():\n",
    "                        return_list.append(pair[key])\n",
    "                        break\n",
    "            else:\n",
    "                return_list.append(None)\n",
    "    return return_list\n",
    "my_dict=dict(virat=104,batsman=dict(subman_gil=839,rinku_singh=5360,sky=500),rahul=27,bowler=dict(bumrah=7007,shami=315,harsit_rana=77777),rohit=36,all_rounder=dict(hardik=1007,jaddu=2,soham_maity=70000))\n",
    "print(\"enter the space separated list of key elements : \")\n",
    "key_list=list(map(str,input().strip().split()))\n",
    "print(\"The value list of corresponding key list is : \",dictionary_value(my_dict,key_list))"
   ]
  },
  {
   "cell_type": "code",
   "execution_count": 18,
   "id": "9a5086c7-591f-44e4-9f8f-6017263cc7c0",
   "metadata": {},
   "outputs": [
    {
     "name": "stdin",
     "output_type": "stream",
     "text": [
      "enter space separated key,value for dictionary:  rohit,27 rahul,36 virat,94\n",
      "enter d for descending & any character for ascending order sorting :  d\n"
     ]
    },
    {
     "name": "stdout",
     "output_type": "stream",
     "text": [
      "The sorted dictionary is :  {'virat': 94, 'rahul': 36, 'rohit': 27}\n"
     ]
    }
   ],
   "source": [
    "#34. Write a code that takes a dictionary as input and returns a sorted version of it based on the values. You can choose whether to sort in ascending or descending order.\n",
    "\n",
    "my_dict={pair.split(',')[0]:int(pair.split(',')[1]) for pair in input(\"enter space separated key,value for dictionary: \").strip().split()}\n",
    "result=True if input(\"enter d for descending & any character for ascending order sorting : \")=='d' else False\n",
    "my_list=sorted(my_dict,key=lambda x:my_dict[x],reverse=result)\n",
    "sorted_dict={}\n",
    "for i in my_list:\n",
    "    sorted_dict[i]=my_dict[i]\n",
    "print(\"The sorted dictionary is : \",sorted_dict)"
   ]
  },
  {
   "cell_type": "code",
   "execution_count": 1,
   "id": "fb8de0f4-57cc-4990-aeaf-42db6a63b821",
   "metadata": {},
   "outputs": [
    {
     "name": "stdin",
     "output_type": "stream",
     "text": [
      "enter space separated key,value for dictionary:  virat,94 rohit,27 rahul,36 gambhir,94\n"
     ]
    },
    {
     "name": "stdout",
     "output_type": "stream",
     "text": [
      "The inverted dictionary is :  {94: ['virat', 'gambhir'], 27: 'rohit', 36: 'rahul'}\n"
     ]
    }
   ],
   "source": [
    "#35. Write a code that inverts a dictionary swapping keys and values. Ensure that the inverted dictionary correctly handles cases where multiple keys have the same value by storing the keys as a list in the inverted dictionary.\n",
    "\n",
    "my_dict={pair.split(',')[0]:int(pair.split(',')[1]) for pair in input(\"enter space separated key,value for dictionary: \").strip().split()}\n",
    "invert_dict={}\n",
    "for pair in my_dict.items():\n",
    "    if pair[1] in invert_dict:\n",
    "        invert_dict[pair[1]]=[invert_dict[pair[1]]]+[pair[0]]\n",
    "    else:\n",
    "        invert_dict[pair[1]]=pair[0]\n",
    "print(\"The inverted dictionary is : \",invert_dict)"
   ]
  }
 ],
 "metadata": {
  "kernelspec": {
   "display_name": "Python 3 (ipykernel)",
   "language": "python",
   "name": "python3"
  },
  "language_info": {
   "codemirror_mode": {
    "name": "ipython",
    "version": 3
   },
   "file_extension": ".py",
   "mimetype": "text/x-python",
   "name": "python",
   "nbconvert_exporter": "python",
   "pygments_lexer": "ipython3",
   "version": "3.10.8"
  }
 },
 "nbformat": 4,
 "nbformat_minor": 5
}
